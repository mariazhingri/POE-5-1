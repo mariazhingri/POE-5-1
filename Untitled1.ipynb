{
  "nbformat": 4,
  "nbformat_minor": 0,
  "metadata": {
    "colab": {
      "name": "Untitled1.ipynb",
      "provenance": [],
      "authorship_tag": "ABX9TyNrmPOJVmvOb0wRBYpvLQb7",
      "include_colab_link": true
    },
    "kernelspec": {
      "name": "python3",
      "display_name": "Python 3"
    },
    "language_info": {
      "name": "python"
    }
  },
  "cells": [
    {
      "cell_type": "markdown",
      "metadata": {
        "id": "view-in-github",
        "colab_type": "text"
      },
      "source": [
        "<a href=\"https://colab.research.google.com/github/mariazhingri/POE-5-1/blob/main/Untitled1.ipynb\" target=\"_parent\"><img src=\"https://colab.research.google.com/assets/colab-badge.svg\" alt=\"Open In Colab\"/></a>"
      ]
    },
    {
      "cell_type": "code",
      "execution_count": null,
      "metadata": {
        "cellView": "form",
        "id": "0UNa7-En351z"
      },
      "outputs": [],
      "source": [
        "#@title calculo del indice de masa corporal {run: \"auto\", vertical-output:true}\n",
        "estatura =1.70#@param{type:\"number\"}\n",
        "peso = 70#@param{type:\"number\"}\n",
        "print((peso)/(estatura*estatura))"
      ]
    }
  ]
}